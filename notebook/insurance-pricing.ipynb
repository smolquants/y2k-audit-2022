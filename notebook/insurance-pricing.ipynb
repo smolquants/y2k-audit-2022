{
 "cells": [
  {
   "cell_type": "code",
   "execution_count": 2,
   "id": "0dbcffc9",
   "metadata": {},
   "outputs": [],
   "source": [
    "import pandas as pd\n",
    "import numpy as np\n",
    "from ape import chain, Contract, networks"
   ]
  },
  {
   "cell_type": "code",
   "execution_count": 3,
   "id": "3691aec9",
   "metadata": {},
   "outputs": [
    {
     "data": {
      "text/plain": [
       "<alchemy chain_id=42161>"
      ]
     },
     "execution_count": 3,
     "metadata": {},
     "output_type": "execute_result"
    }
   ],
   "source": [
    "networks.parse_network_choice('arbitrum:mainnet:alchemy').__enter__()"
   ]
  },
  {
   "cell_type": "code",
   "execution_count": 4,
   "id": "5ac54491",
   "metadata": {},
   "outputs": [
    {
     "name": "stdout",
     "output_type": "stream",
     "text": [
      "vault name: y2kMIM_975*RISK\n"
     ]
    },
    {
     "data": {
      "text/plain": [
       "<Vault 0x73A53a3d3bFc41E6D6B7E67769405B8C6330F4AC>"
      ]
     },
     "execution_count": 4,
     "metadata": {},
     "output_type": "execute_result"
    }
   ],
   "source": [
    "y2k_mim_risk = Contract(\"0x73A53a3d3bFc41E6D6B7E67769405B8C6330F4AC\")\n",
    "print(\"vault name:\", y2k_mim_risk.name())\n",
    "y2k_mim_risk"
   ]
  },
  {
   "cell_type": "code",
   "execution_count": 5,
   "id": "a9be3f2e",
   "metadata": {},
   "outputs": [
    {
     "name": "stdout",
     "output_type": "stream",
     "text": [
      "vault name: y2kMIM_975*HEDGE\n"
     ]
    },
    {
     "data": {
      "text/plain": [
       "<Vault 0xcF86EeA7d168F71c15917AD5A46279f1d6F89779>"
      ]
     },
     "execution_count": 5,
     "metadata": {},
     "output_type": "execute_result"
    }
   ],
   "source": [
    "y2k_mim_hedge = Contract(\"0xcF86EeA7d168F71c15917AD5A46279f1d6F89779\")\n",
    "print(\"vault name:\", y2k_mim_hedge.name())\n",
    "y2k_mim_hedge"
   ]
  },
  {
   "cell_type": "code",
   "execution_count": null,
   "id": "b9022d00",
   "metadata": {},
   "outputs": [],
   "source": []
  }
 ],
 "metadata": {
  "kernelspec": {
   "display_name": "Python 3 (ipykernel)",
   "language": "python",
   "name": "python3"
  },
  "language_info": {
   "codemirror_mode": {
    "name": "ipython",
    "version": 3
   },
   "file_extension": ".py",
   "mimetype": "text/x-python",
   "name": "python",
   "nbconvert_exporter": "python",
   "pygments_lexer": "ipython3",
   "version": "3.9.6"
  }
 },
 "nbformat": 4,
 "nbformat_minor": 5
}
