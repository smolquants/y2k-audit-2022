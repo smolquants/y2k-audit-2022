{
 "cells": [
  {
   "cell_type": "code",
   "execution_count": 2,
   "id": "0dbcffc9",
   "metadata": {},
   "outputs": [],
   "source": [
    "import pandas as pd\n",
    "import numpy as np\n",
    "from ape import chain, Contract, networks"
   ]
  },
  {
   "cell_type": "code",
   "execution_count": 3,
   "id": "3691aec9",
   "metadata": {},
   "outputs": [
    {
     "data": {
      "text/plain": [
       "<alchemy chain_id=42161>"
      ]
     },
     "execution_count": 3,
     "metadata": {},
     "output_type": "execute_result"
    }
   ],
   "source": [
    "networks.parse_network_choice('arbitrum:mainnet:alchemy').__enter__()"
   ]
  },
  {
   "cell_type": "code",
   "execution_count": 16,
   "id": "0f26d5df",
   "metadata": {},
   "outputs": [],
   "source": [
    "start_block = 33934301  # controller deploy block"
   ]
  },
  {
   "cell_type": "code",
   "execution_count": 10,
   "id": "5ac54491",
   "metadata": {},
   "outputs": [
    {
     "data": {
      "text/plain": [
       "<Vault 0x73A53a3d3bFc41E6D6B7E67769405B8C6330F4AC>"
      ]
     },
     "execution_count": 10,
     "metadata": {},
     "output_type": "execute_result"
    }
   ],
   "source": [
    "y2k_mim_risk = Contract(\"0x73A53a3d3bFc41E6D6B7E67769405B8C6330F4AC\")\n",
    "y2k_mim_risk"
   ]
  },
  {
   "cell_type": "code",
   "execution_count": 11,
   "id": "f56b77cb",
   "metadata": {},
   "outputs": [
    {
     "data": {
      "text/plain": [
       "'y2kMIM_975*RISK'"
      ]
     },
     "execution_count": 11,
     "metadata": {},
     "output_type": "execute_result"
    }
   ],
   "source": [
    "y2k_mim_risk.name()"
   ]
  },
  {
   "cell_type": "code",
   "execution_count": 8,
   "id": "a9be3f2e",
   "metadata": {},
   "outputs": [
    {
     "data": {
      "text/plain": [
       "<Vault 0xcF86EeA7d168F71c15917AD5A46279f1d6F89779>"
      ]
     },
     "execution_count": 8,
     "metadata": {},
     "output_type": "execute_result"
    }
   ],
   "source": [
    "y2k_mim_hedge = Contract(\"0xcF86EeA7d168F71c15917AD5A46279f1d6F89779\")\n",
    "y2k_mim_hedge"
   ]
  },
  {
   "cell_type": "code",
   "execution_count": 9,
   "id": "b2b0fb77",
   "metadata": {},
   "outputs": [
    {
     "data": {
      "text/plain": [
       "'y2kMIM_975*HEDGE'"
      ]
     },
     "execution_count": 9,
     "metadata": {},
     "output_type": "execute_result"
    }
   ],
   "source": [
    "y2k_mim_hedge.name()"
   ]
  },
  {
   "cell_type": "code",
   "execution_count": 12,
   "id": "7c838a75",
   "metadata": {},
   "outputs": [
    {
     "data": {
      "text/plain": [
       "<Controller 0x225aCF1D32f0928A96E49E6110abA1fdf777C85f>"
      ]
     },
     "execution_count": 12,
     "metadata": {},
     "output_type": "execute_result"
    }
   ],
   "source": [
    "y2k_controller = Contract(\"0x225aCF1D32f0928A96E49E6110abA1fdf777C85f\")\n",
    "y2k_controller"
   ]
  },
  {
   "cell_type": "code",
   "execution_count": 13,
   "id": "a909a05d",
   "metadata": {},
   "outputs": [
    {
     "data": {
      "text/plain": [
       "999684650000000000"
      ]
     },
     "execution_count": 13,
     "metadata": {},
     "output_type": "execute_result"
    }
   ],
   "source": [
    "# get latest mim price from chainlink\n",
    "y2k_controller.getLatestPrice(\"0xFEa7a6a0B346362BF88A9e4A88416B77a57D6c2A\")"
   ]
  },
  {
   "cell_type": "code",
   "execution_count": 26,
   "id": "5782e830",
   "metadata": {},
   "outputs": [
    {
     "data": {
      "text/plain": [
       "<VaultFactory 0x984E0EB8fB687aFa53fc8B33E12E04967560E092>"
      ]
     },
     "execution_count": 26,
     "metadata": {},
     "output_type": "execute_result"
    }
   ],
   "source": [
    "y2k_vault_factory = Contract(\"0x984E0EB8fB687aFa53fc8B33E12E04967560E092\")\n",
    "y2k_vault_factory"
   ]
  },
  {
   "cell_type": "code",
   "execution_count": 33,
   "id": "b6adcf9b",
   "metadata": {},
   "outputs": [
    {
     "data": {
      "text/plain": [
       "1"
      ]
     },
     "execution_count": 33,
     "metadata": {},
     "output_type": "execute_result"
    }
   ],
   "source": [
    "# idx of the latest epoch\n",
    "idx = y2k_mim_hedge.epochsLength() - 1\n",
    "idx"
   ]
  },
  {
   "cell_type": "code",
   "execution_count": 34,
   "id": "9cd60355",
   "metadata": {},
   "outputs": [
    {
     "name": "stdout",
     "output_type": "stream",
     "text": [
      "epoch interval (start, end): (1670371200, 1670803200)\n"
     ]
    }
   ],
   "source": [
    "epoch_end = y2k_mim_hedge.epochs(idx)\n",
    "epoch_start = y2k_mim_hedge.idEpochBegin(epoch_end)\n",
    "print(f\"epoch interval (start, end): ({epoch_start}, {epoch_end})\")"
   ]
  },
  {
   "cell_type": "code",
   "execution_count": null,
   "id": "6196d286",
   "metadata": {},
   "outputs": [],
   "source": [
    "# look at deposits within this epoch"
   ]
  }
 ],
 "metadata": {
  "kernelspec": {
   "display_name": "Python 3 (ipykernel)",
   "language": "python",
   "name": "python3"
  },
  "language_info": {
   "codemirror_mode": {
    "name": "ipython",
    "version": 3
   },
   "file_extension": ".py",
   "mimetype": "text/x-python",
   "name": "python",
   "nbconvert_exporter": "python",
   "pygments_lexer": "ipython3",
   "version": "3.9.6"
  }
 },
 "nbformat": 4,
 "nbformat_minor": 5
}
