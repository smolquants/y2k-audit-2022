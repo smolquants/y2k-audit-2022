{
 "cells": [
  {
   "cell_type": "code",
   "execution_count": 1,
   "id": "5cd01130",
   "metadata": {},
   "outputs": [],
   "source": [
    "import pandas as pd\n",
    "import numpy as np\n",
    "from ape import chain, Contract, networks"
   ]
  },
  {
   "cell_type": "code",
   "execution_count": 2,
   "id": "b9499554",
   "metadata": {},
   "outputs": [
    {
     "data": {
      "text/plain": [
       "<alchemy chain_id=1>"
      ]
     },
     "execution_count": 2,
     "metadata": {},
     "output_type": "execute_result"
    }
   ],
   "source": [
    "networks.parse_network_choice('ethereum:mainnet:alchemy').__enter__()"
   ]
  },
  {
   "cell_type": "code",
   "execution_count": 3,
   "id": "75050b4d",
   "metadata": {},
   "outputs": [
    {
     "data": {
      "text/plain": [
       "<Vyper_contract 0x5a6A4D54456819380173272A5E8E9B9904BdF41B>"
      ]
     },
     "execution_count": 3,
     "metadata": {},
     "output_type": "execute_result"
    }
   ],
   "source": [
    "mim_curve_pool = Contract(\"0x5a6A4D54456819380173272A5E8E9B9904BdF41B\")\n",
    "mim_curve_pool"
   ]
  },
  {
   "cell_type": "code",
   "execution_count": 4,
   "id": "223f1445",
   "metadata": {},
   "outputs": [
    {
     "data": {
      "text/plain": [
       "<Vyper_contract 0xbEbc44782C7dB0a1A60Cb6fe97d0b483032FF1C7>"
      ]
     },
     "execution_count": 4,
     "metadata": {},
     "output_type": "execute_result"
    }
   ],
   "source": [
    "base_curve_pool = Contract(\"0xbEbc44782C7dB0a1A60Cb6fe97d0b483032FF1C7\")\n",
    "base_curve_pool"
   ]
  },
  {
   "cell_type": "code",
   "execution_count": 5,
   "id": "05a7a323",
   "metadata": {},
   "outputs": [
    {
     "data": {
      "text/plain": [
       "2000"
      ]
     },
     "execution_count": 5,
     "metadata": {},
     "output_type": "execute_result"
    }
   ],
   "source": [
    "# A = 2000\n",
    "A = mim_curve_pool.A()\n",
    "A"
   ]
  },
  {
   "cell_type": "code",
   "execution_count": 6,
   "id": "144a74a5",
   "metadata": {},
   "outputs": [
    {
     "data": {
      "text/plain": [
       "0.0006000000000000001"
      ]
     },
     "execution_count": 6,
     "metadata": {},
     "output_type": "execute_result"
    }
   ],
   "source": [
    "# fee rate = (fee / FEE_PRECISION) * (1 + ADMIN_FEE / FEE_PRECISION)\n",
    "FEE_PRECISION = 10**10\n",
    "\n",
    "fee_rate = (mim_curve_pool.fee() / FEE_PRECISION) * (1 + mim_curve_pool.admin_fee() / FEE_PRECISION)\n",
    "fee_rate"
   ]
  },
  {
   "cell_type": "code",
   "execution_count": 7,
   "id": "b0110abc",
   "metadata": {},
   "outputs": [],
   "source": [
    "PRECISION = 10**18"
   ]
  },
  {
   "cell_type": "code",
   "execution_count": 8,
   "id": "4a521bfe",
   "metadata": {},
   "outputs": [
    {
     "name": "stdout",
     "output_type": "stream",
     "text": [
      "coin 0: 0x99D8a9C45b2ecA8864373A26D1459e3Dff1e17F3\n",
      "coin 1: 0x6c3F90f043a72FA612cbac8115EE7e52BDe6E490\n"
     ]
    }
   ],
   "source": [
    "# get the balances for mim and 3crv\n",
    "# mim is coin0, 3crv is coin1\n",
    "coin0_addr = mim_curve_pool.coins(0)\n",
    "coin1_addr = mim_curve_pool.coins(1)\n",
    "\n",
    "print(f\"coin 0: {coin0_addr}\")\n",
    "print(f\"coin 1: {coin1_addr}\")"
   ]
  },
  {
   "cell_type": "code",
   "execution_count": 9,
   "id": "11cf7a26",
   "metadata": {},
   "outputs": [
    {
     "data": {
      "text/plain": [
       "<MagicInternetMoneyV1 0x99D8a9C45b2ecA8864373A26D1459e3Dff1e17F3>"
      ]
     },
     "execution_count": 9,
     "metadata": {},
     "output_type": "execute_result"
    }
   ],
   "source": [
    "mim = Contract(coin0_addr)\n",
    "mim"
   ]
  },
  {
   "cell_type": "code",
   "execution_count": 10,
   "id": "68fcaedb",
   "metadata": {},
   "outputs": [
    {
     "data": {
      "text/plain": [
       "<3Crv 0x6c3F90f043a72FA612cbac8115EE7e52BDe6E490>"
      ]
     },
     "execution_count": 10,
     "metadata": {},
     "output_type": "execute_result"
    }
   ],
   "source": [
    "crv3 = Contract(coin1_addr)\n",
    "crv3"
   ]
  },
  {
   "cell_type": "code",
   "execution_count": 11,
   "id": "d385907d",
   "metadata": {},
   "outputs": [
    {
     "name": "stdout",
     "output_type": "stream",
     "text": [
      "balance 0 (MIM): 53058592.676728524\n",
      "balance 1 (3Crv): 47192342.03013704\n"
     ]
    }
   ],
   "source": [
    "bal_mim = mim_curve_pool.balances(0) / (10 ** mim.decimals()) # adjust for decimals\n",
    "bal_3crv = mim_curve_pool.balances(1) / (10 ** crv3.decimals())\n",
    "\n",
    "print(f\"balance 0 (MIM): {bal_mim}\")\n",
    "print(f\"balance 1 (3Crv): {bal_3crv}\")"
   ]
  },
  {
   "cell_type": "code",
   "execution_count": 12,
   "id": "e5e4b12f",
   "metadata": {},
   "outputs": [],
   "source": [
    "# D calc for two coin case\n",
    "def _d(x0, x1):\n",
    "    # Cardano: t**3 + p*t + q = 0\n",
    "    # SEE: https://en.wikipedia.org/wiki/Cubic_equation#Derivation_of_the_roots\n",
    "    q = - 16 * A * x0 * x1 * (x0 + x1)\n",
    "    p = 4 * x0 * x1 * (4 * A - 1)\n",
    "    delta = ((q/2.0)**2 + (p/3.0)**3)**(1/2)\n",
    "    \n",
    "    u1 = (-q/2.0 + delta)**(1/3)\n",
    "    u2 = (q/2.0 + delta)**(1/3)\n",
    "\n",
    "    return u1 - u2"
   ]
  },
  {
   "cell_type": "code",
   "execution_count": 13,
   "id": "370371ce",
   "metadata": {},
   "outputs": [
    {
     "data": {
      "text/plain": [
       "100250891.66180706"
      ]
     },
     "execution_count": 13,
     "metadata": {},
     "output_type": "execute_result"
    }
   ],
   "source": [
    "D = _d(bal_mim, bal_3crv)\n",
    "D"
   ]
  },
  {
   "cell_type": "code",
   "execution_count": 14,
   "id": "4b1a70bc",
   "metadata": {},
   "outputs": [],
   "source": [
    "# some stableswap fns for two coin case\n",
    "def B(x):\n",
    "    return D * (1 - 4*A) * x + 4*A*(x**2)\n",
    "\n",
    "def E(x):\n",
    "    return 4*A*x\n",
    "\n",
    "def y(x):\n",
    "    return (-B(x) + np.sqrt(B(x)**2 + (D**3) * E(x))) / (2 * E(x))\n",
    "\n",
    "def p(x):\n",
    "    return (y(x) / x) * ((D**3) + 16 * A * (x**2) * (y(x))) / ((D**3) + 16 * A * (x) * (y(x)**2))\n",
    "\n",
    "def tvl(x):\n",
    "    return x * p(x) + y(x)"
   ]
  },
  {
   "cell_type": "code",
   "execution_count": 15,
   "id": "59937786",
   "metadata": {},
   "outputs": [
    {
     "name": "stdout",
     "output_type": "stream",
     "text": [
      "y(bal_mim): 47192342.03013735\n",
      "y(bal_mim) / bal_3crv - 1: 6.661338147750939e-15\n"
     ]
    }
   ],
   "source": [
    "# in line with current balance of 3crv in pool\n",
    "print('y(bal_mim):', y(bal_mim))\n",
    "print('y(bal_mim) / bal_3crv - 1:', y(bal_mim) / bal_3crv - 1)"
   ]
  },
  {
   "cell_type": "code",
   "execution_count": 16,
   "id": "ca1f0cd0",
   "metadata": {},
   "outputs": [],
   "source": [
    "# plot price for mim balances\n",
    "xs = np.linspace(1000000, D, 100000)\n",
    "prices = [ p(x) for x in xs ]\n",
    "df = pd.DataFrame(data={'x': xs, 'price': prices})"
   ]
  },
  {
   "cell_type": "code",
   "execution_count": 17,
   "id": "95216aff",
   "metadata": {},
   "outputs": [
    {
     "data": {
      "text/plain": [
       "<AxesSubplot: xlabel='x'>"
      ]
     },
     "execution_count": 17,
     "metadata": {},
     "output_type": "execute_result"
    },
    {
     "data": {
      "image/png": "[encoded data removed]",
      "text/plain": [
       "<Figure size 640x480 with 1 Axes>"
      ]
     },
     "metadata": {},
     "output_type": "display_data"
    }
   ],
   "source": [
    "df.plot(x='x', y='price', label='price (estimate)')"
   ]
  },
  {
   "cell_type": "code",
   "execution_count": 18,
   "id": "398cf5a7",
   "metadata": {},
   "outputs": [
    {
     "data": {
      "text/plain": [
       "<AxesSubplot: xlabel='x'>"
      ]
     },
     "execution_count": 18,
     "metadata": {},
     "output_type": "execute_result"
    },
    {
     "data": {
      "image/png": "[encoded data removed]",
      "text/plain": [
       "<Figure size 640x480 with 1 Axes>"
      ]
     },
     "metadata": {},
     "output_type": "display_data"
    }
   ],
   "source": [
    "# zoom in near larger mim balance values for transition away from price of 1\n",
    "df[(df['price'] < 0.995) & (df['price'] > 0.9)].plot(x='x', y='price', label='price (estimate)')"
   ]
  },
  {
   "cell_type": "code",
   "execution_count": 19,
   "id": "f4ff7d93",
   "metadata": {},
   "outputs": [
    {
     "data": {
      "text/html": [
       "<div>\n",
       "<style scoped>\n",
       "    .dataframe tbody tr th:only-of-type {\n",
       "        vertical-align: middle;\n",
       "    }\n",
       "\n",
       "    .dataframe tbody tr th {\n",
       "        vertical-align: top;\n",
       "    }\n",
       "\n",
       "    .dataframe thead th {\n",
       "        text-align: right;\n",
       "    }\n",
       "</style>\n",
       "<table border=\"1\" class=\"dataframe\">\n",
       "  <thead>\n",
       "    <tr style=\"text-align: right;\">\n",
       "      <th></th>\n",
       "      <th>x</th>\n",
       "      <th>price</th>\n",
       "    </tr>\n",
       "  </thead>\n",
       "  <tbody>\n",
       "    <tr>\n",
       "      <th>96487</th>\n",
       "      <td>9.676517e+07</td>\n",
       "      <td>0.975950</td>\n",
       "    </tr>\n",
       "    <tr>\n",
       "      <th>96488</th>\n",
       "      <td>9.676616e+07</td>\n",
       "      <td>0.975937</td>\n",
       "    </tr>\n",
       "    <tr>\n",
       "      <th>96489</th>\n",
       "      <td>9.676715e+07</td>\n",
       "      <td>0.975924</td>\n",
       "    </tr>\n",
       "    <tr>\n",
       "      <th>96490</th>\n",
       "      <td>9.676814e+07</td>\n",
       "      <td>0.975911</td>\n",
       "    </tr>\n",
       "    <tr>\n",
       "      <th>96491</th>\n",
       "      <td>9.676914e+07</td>\n",
       "      <td>0.975899</td>\n",
       "    </tr>\n",
       "    <tr>\n",
       "      <th>96492</th>\n",
       "      <td>9.677013e+07</td>\n",
       "      <td>0.975886</td>\n",
       "    </tr>\n",
       "    <tr>\n",
       "      <th>96493</th>\n",
       "      <td>9.677112e+07</td>\n",
       "      <td>0.975873</td>\n",
       "    </tr>\n",
       "    <tr>\n",
       "      <th>96494</th>\n",
       "      <td>9.677211e+07</td>\n",
       "      <td>0.975860</td>\n",
       "    </tr>\n",
       "  </tbody>\n",
       "</table>\n",
       "</div>"
      ],
      "text/plain": [
       "                  x     price\n",
       "96487  9.676517e+07  0.975950\n",
       "96488  9.676616e+07  0.975937\n",
       "96489  9.676715e+07  0.975924\n",
       "96490  9.676814e+07  0.975911\n",
       "96491  9.676914e+07  0.975899\n",
       "96492  9.677013e+07  0.975886\n",
       "96493  9.677112e+07  0.975873\n",
       "96494  9.677211e+07  0.975860"
      ]
     },
     "execution_count": 19,
     "metadata": {},
     "output_type": "execute_result"
    }
   ],
   "source": [
    "# get the inverse from linspace eval\n",
    "df[abs(df['price'] - 0.9759) < 0.00005]"
   ]
  },
  {
   "cell_type": "code",
   "execution_count": 20,
   "id": "80c223f1",
   "metadata": {},
   "outputs": [
    {
     "data": {
      "text/plain": [
       "43713520.4445468"
      ]
     },
     "execution_count": 20,
     "metadata": {},
     "output_type": "execute_result"
    }
   ],
   "source": [
    "# dx is estimated amount of MIM need to sell into pool to push price below strike\n",
    "dx = df[abs(df['price'] - 0.9759) < 0.00005].iloc[-1].x - bal_mim\n",
    "dx"
   ]
  },
  {
   "cell_type": "code",
   "execution_count": 21,
   "id": "4785584a",
   "metadata": {},
   "outputs": [
    {
     "name": "stdout",
     "output_type": "stream",
     "text": [
      "p(bal_mim + dx): 0.9758600624755178\n",
      "x(bal_mim + dx): 96772113.12127532\n",
      "y(bal_mim + dx): 3557699.60982695\n"
     ]
    }
   ],
   "source": [
    "# pool balances post sell below strike\n",
    "print(\"p(bal_mim + dx):\", p(bal_mim + dx))\n",
    "print(\"x(bal_mim + dx):\", bal_mim + dx)\n",
    "print(\"y(bal_mim + dx):\", y(bal_mim + dx))"
   ]
  },
  {
   "cell_type": "code",
   "execution_count": 22,
   "id": "3cdb8a23",
   "metadata": {},
   "outputs": [
    {
     "name": "stdout",
     "output_type": "stream",
     "text": [
      "tvl(bal_mim + dx): 97993739.96624257\n",
      "x(bal_mim + dx) / tvl(bal_mim + dx): 0.9636946236458316\n",
      "y(bal_mim + dx) / tvl(bal_mim + dx): 0.0363053763541684\n"
     ]
    }
   ],
   "source": [
    "# percentage of pool in dollar terms needed to breach strike\n",
    "print(\"tvl(bal_mim + dx):\", tvl(bal_mim + dx))\n",
    "print(\"x(bal_mim + dx) / tvl(bal_mim + dx):\", (bal_mim + dx) * p(bal_mim + dx) / tvl(bal_mim + dx))\n",
    "print(\"y(bal_mim + dx) / tvl(bal_mim + dx):\", y(bal_mim + dx) / tvl(bal_mim + dx))"
   ]
  },
  {
   "cell_type": "code",
   "execution_count": 23,
   "id": "1cd712c8",
   "metadata": {},
   "outputs": [
    {
     "data": {
      "text/plain": [
       "43634642.4203104"
      ]
     },
     "execution_count": 23,
     "metadata": {},
     "output_type": "execute_result"
    }
   ],
   "source": [
    "# how much does user get out in dollar terms after initial swap to breach?\n",
    "dy = y(bal_mim) - y(bal_mim + dx)\n",
    "dy"
   ]
  },
  {
   "cell_type": "code",
   "execution_count": 24,
   "id": "be0a2e0c",
   "metadata": {},
   "outputs": [
    {
     "name": "stdout",
     "output_type": "stream",
     "text": [
      "bal_mim: 53058592.676728524\n",
      "y(bal_3crv): 53058592.676728845\n",
      "p(bal_mim): 0.9999705486537355\n",
      "1/p(bal_3crv): 0.9999705486537355\n"
     ]
    }
   ],
   "source": [
    "# NOTE: can use same Curve fns above if switch x <=> y due to symmetry, where p <=> 1/p\n",
    "print(\"bal_mim:\", bal_mim)\n",
    "print(\"y(bal_3crv):\", y(bal_3crv))\n",
    "print(\"p(bal_mim):\", p(bal_mim))\n",
    "print(\"1/p(bal_3crv):\", 1/p(bal_3crv))"
   ]
  },
  {
   "cell_type": "code",
   "execution_count": 25,
   "id": "57eab178",
   "metadata": {},
   "outputs": [
    {
     "data": {
      "text/plain": [
       "43610526.04963141"
      ]
     },
     "execution_count": 25,
     "metadata": {},
     "output_type": "execute_result"
    }
   ],
   "source": [
    "# assume arbs eventually bring the balances back to (bal_mim, bal_3crv) before final swap by attacker\n",
    "# amount of MIM out after final swap?\n",
    "dx_out = y(bal_3crv) - y(bal_3crv + dy)\n",
    "dx_out"
   ]
  },
  {
   "cell_type": "code",
   "execution_count": 26,
   "id": "f97e9857",
   "metadata": {},
   "outputs": [
    {
     "data": {
      "text/plain": [
       "102994.39491538703"
      ]
     },
     "execution_count": 26,
     "metadata": {},
     "output_type": "execute_result"
    }
   ],
   "source": [
    "# loss due to slippage in MIM (without fees)\n",
    "slippage_loss = dx - dx_out\n",
    "slippage_loss"
   ]
  },
  {
   "cell_type": "code",
   "execution_count": 27,
   "id": "6b9d4710",
   "metadata": {},
   "outputs": [
    {
     "data": {
      "text/plain": [
       "0.002356122176113488"
      ]
     },
     "execution_count": 27,
     "metadata": {},
     "output_type": "execute_result"
    }
   ],
   "source": [
    "# loss due to slippage in % terms (without fees; TODO: fees)\n",
    "slippage_loss / dx"
   ]
  },
  {
   "cell_type": "code",
   "execution_count": null,
   "id": "760b566d",
   "metadata": {},
   "outputs": [],
   "source": []
  }
 ],
 "metadata": {
  "kernelspec": {
   "display_name": "Python 3 (ipykernel)",
   "language": "python",
   "name": "python3"
  },
  "language_info": {
   "codemirror_mode": {
    "name": "ipython",
    "version": 3
   },
   "file_extension": ".py",
   "mimetype": "text/x-python",
   "name": "python",
   "nbconvert_exporter": "python",
   "pygments_lexer": "ipython3",
   "version": "3.10.8"
  }
 },
 "nbformat": 4,
 "nbformat_minor": 5
}
