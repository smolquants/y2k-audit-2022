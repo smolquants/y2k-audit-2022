{
 "cells": [
  {
   "cell_type": "code",
   "execution_count": 2,
   "id": "5cd01130",
   "metadata": {},
   "outputs": [],
   "source": [
    "import numpy as np\n",
    "from ape import chain, Contract, networks"
   ]
  },
  {
   "cell_type": "code",
   "execution_count": 3,
   "id": "b9499554",
   "metadata": {},
   "outputs": [
    {
     "data": {
      "text/plain": [
       "<alchemy chain_id=1>"
      ]
     },
     "execution_count": 3,
     "metadata": {},
     "output_type": "execute_result"
    }
   ],
   "source": [
    "networks.parse_network_choice('ethereum:mainnet:alchemy').__enter__()"
   ]
  },
  {
   "cell_type": "code",
   "execution_count": 4,
   "id": "75050b4d",
   "metadata": {},
   "outputs": [
    {
     "data": {
      "text/plain": [
       "<Vyper_contract 0x5a6A4D54456819380173272A5E8E9B9904BdF41B>"
      ]
     },
     "execution_count": 4,
     "metadata": {},
     "output_type": "execute_result"
    }
   ],
   "source": [
    "mim_curve_pool = Contract(\"0x5a6A4D54456819380173272A5E8E9B9904BdF41B\")\n",
    "mim_curve_pool"
   ]
  },
  {
   "cell_type": "code",
   "execution_count": 5,
   "id": "223f1445",
   "metadata": {},
   "outputs": [
    {
     "data": {
      "text/plain": [
       "<Vyper_contract 0xbEbc44782C7dB0a1A60Cb6fe97d0b483032FF1C7>"
      ]
     },
     "execution_count": 5,
     "metadata": {},
     "output_type": "execute_result"
    }
   ],
   "source": [
    "base_curve_pool = Contract(\"0xbEbc44782C7dB0a1A60Cb6fe97d0b483032FF1C7\")\n",
    "base_curve_pool"
   ]
  },
  {
   "cell_type": "code",
   "execution_count": 6,
   "id": "05a7a323",
   "metadata": {},
   "outputs": [
    {
     "data": {
      "text/plain": [
       "2000"
      ]
     },
     "execution_count": 6,
     "metadata": {},
     "output_type": "execute_result"
    }
   ],
   "source": [
    "# A = 2000\n",
    "A = mim_curve_pool.A()\n",
    "A"
   ]
  },
  {
   "cell_type": "code",
   "execution_count": 7,
   "id": "b0110abc",
   "metadata": {},
   "outputs": [],
   "source": [
    "PRECISION = 10**18\n",
    "total_supply = mim_curve_pool.totalSupply()\n",
    "D = mim_curve_pool.get_virtual_price() * total_supply / PRECISION"
   ]
  },
  {
   "cell_type": "code",
   "execution_count": 8,
   "id": "7ba74a76",
   "metadata": {},
   "outputs": [
    {
     "data": {
      "text/plain": [
       "98533841.08789892"
      ]
     },
     "execution_count": 8,
     "metadata": {},
     "output_type": "execute_result"
    }
   ],
   "source": [
    "# D ~ 98.534M\n",
    "D /= PRECISION\n",
    "D"
   ]
  },
  {
   "cell_type": "code",
   "execution_count": 9,
   "id": "4a521bfe",
   "metadata": {},
   "outputs": [
    {
     "name": "stdout",
     "output_type": "stream",
     "text": [
      "coin 0: 0x99D8a9C45b2ecA8864373A26D1459e3Dff1e17F3\n",
      "coin 1: 0x6c3F90f043a72FA612cbac8115EE7e52BDe6E490\n"
     ]
    }
   ],
   "source": [
    "# get the balances for mim and 3crv\n",
    "# mim is coin0, 3crv is coin1\n",
    "coin0_addr = mim_curve_pool.coins(0)\n",
    "coin1_addr = mim_curve_pool.coins(1)\n",
    "\n",
    "print(f\"coin 0: {coin0_addr}\")\n",
    "print(f\"coin 1: {coin1_addr}\")"
   ]
  },
  {
   "cell_type": "code",
   "execution_count": 10,
   "id": "11cf7a26",
   "metadata": {},
   "outputs": [
    {
     "data": {
      "text/plain": [
       "<MagicInternetMoneyV1 0x99D8a9C45b2ecA8864373A26D1459e3Dff1e17F3>"
      ]
     },
     "execution_count": 10,
     "metadata": {},
     "output_type": "execute_result"
    }
   ],
   "source": [
    "mim = Contract(coin0_addr)\n",
    "mim"
   ]
  },
  {
   "cell_type": "code",
   "execution_count": 11,
   "id": "68fcaedb",
   "metadata": {},
   "outputs": [
    {
     "data": {
      "text/plain": [
       "<3Crv 0x6c3F90f043a72FA612cbac8115EE7e52BDe6E490>"
      ]
     },
     "execution_count": 11,
     "metadata": {},
     "output_type": "execute_result"
    }
   ],
   "source": [
    "crv3 = Contract(coin1_addr)\n",
    "crv3"
   ]
  },
  {
   "cell_type": "code",
   "execution_count": 12,
   "id": "d385907d",
   "metadata": {},
   "outputs": [
    {
     "name": "stdout",
     "output_type": "stream",
     "text": [
      "balance 0 (MIM): 58804981.915712215\n",
      "balance 1 (3Crv): 38843750.143145576\n"
     ]
    }
   ],
   "source": [
    "bal_mim = mim_curve_pool.balances(0) / (10 ** mim.decimals()) # adjust for decimals\n",
    "bal_3crv = mim_curve_pool.balances(1) / (10 ** crv3.decimals())\n",
    "\n",
    "print(f\"balance 0 (MIM): {bal_mim}\")\n",
    "print(f\"balance 1 (3Crv): {bal_3crv}\")"
   ]
  },
  {
   "cell_type": "code",
   "execution_count": 13,
   "id": "4b1a70bc",
   "metadata": {},
   "outputs": [],
   "source": [
    "# some stableswap fns for two coin case\n",
    "def _d():\n",
    "    return bal_mim + bal_3crv\n",
    "\n",
    "def B(x):\n",
    "    return _d() * (1 - 4*A) * x + 4*A*(x**2)\n",
    "\n",
    "def E(x):\n",
    "    return 4*A*x\n",
    "\n",
    "def y(x):\n",
    "    return (-B(x) + np.sqrt(B(x)**2 + (_d()**3) * E(x))) / (2 * E(x))\n",
    "\n",
    "def p(x):\n",
    "    return (y(x) / x) * ((_d()**3) + 16 * A * (x**2) * (y(x))) / ((_d()**3) + 16 * A * (x) * (y(x)**2))"
   ]
  },
  {
   "cell_type": "code",
   "execution_count": 14,
   "id": "59937786",
   "metadata": {},
   "outputs": [
    {
     "name": "stdout",
     "output_type": "stream",
     "text": [
      "y(bal_mim): 38844282.268111326\n",
      "y(bal_mim) / bal_3crv - 1: 1.3699114111975774e-05\n"
     ]
    }
   ],
   "source": [
    "# about in line with current balance of 3crv in pool; diff is about .137 bps\n",
    "print('y(bal_mim):', y(bal_mim))\n",
    "print('y(bal_mim) / bal_3crv - 1:', y(bal_mim) / bal_3crv - 1)"
   ]
  },
  {
   "cell_type": "code",
   "execution_count": null,
   "id": "ccb01d34",
   "metadata": {},
   "outputs": [],
   "source": []
  },
  {
   "cell_type": "code",
   "execution_count": null,
   "id": "fa97483d",
   "metadata": {},
   "outputs": [],
   "source": []
  }
 ],
 "metadata": {
  "kernelspec": {
   "display_name": "Python 3 (ipykernel)",
   "language": "python",
   "name": "python3"
  },
  "language_info": {
   "codemirror_mode": {
    "name": "ipython",
    "version": 3
   },
   "file_extension": ".py",
   "mimetype": "text/x-python",
   "name": "python",
   "nbconvert_exporter": "python",
   "pygments_lexer": "ipython3",
   "version": "3.10.8"
  }
 },
 "nbformat": 4,
 "nbformat_minor": 5
}
